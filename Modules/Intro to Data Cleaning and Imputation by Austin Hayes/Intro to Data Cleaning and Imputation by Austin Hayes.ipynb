{
 "cells": [
  {
   "cell_type": "markdown",
   "id": "0dd9b764",
   "metadata": {},
   "source": [
    "---\n",
    "Title: \"Data Cleaning and Imputation by Austin Hayes\"\n",
    "\n",
    "Author:\n",
    "  - Name: Austin Hayes\n",
    "\n",
    "  -  Email: ahayes65@charlotte.edu\n",
    "\n",
    "  -  Affiliation: University of North Carolina at Charlotte\n",
    "\n",
    "Date: June 26, 2025\n",
    "\n",
    "Description: Using NFL Scouting Combine Event scores from 2004 - 2023, we will learn about data cleaning and imputation in Python.\n",
    "\n",
    "Categories:\n",
    "  - Interpreting findings\n",
    "  - Ethics\n",
    "  - Importing and Reading data\n",
    "  - Data Cleaning\n",
    "  - Data Science\n",
    "  - Pandas\n",
    "  - Data Imputation\n",
    "\n",
    "\n",
    "### Data\n",
    "\n",
    "This Dataset is from the SCORE Network Data Repository. The authors include: Shane Hauk, Michael Schuckers and Robin Lock\n",
    "\n",
    "Visit the original data page here: https://data.scorenetwork.org/football/nfl-draft-combine.html\n",
    "\n",
    "The data set contains 6128 rows and 8 columns. Each row represents a player at the NFL Scouting Combine between 2004 and 2023.\n",
    "\n",
    "Download data: \n",
    "\n",
    "Available on the [Intro to Data Cleaning and Imputation by Austin Hayes](https://github.com/schuckers/Charlotte_SCORE_Summer25/tree/main/Data%20for%20Modules/Data%20for%20Intro%20to%20Data%20Cleaning%20and%20Imputation%20by%20Austin%20Hayes): [epl_player_stats_24_25.csv](https://raw.githubusercontent.com/schuckers/Charlotte_SCORE_Summer25/refs/heads/main/Data%20for%20Modules/Data%20for%20Intro%20to%20Data%20Cleaning%20and%20Imputation%20by%20Austin%20Hayes/nfl_combine.csv)\n",
    "\n",
    "---\n",
    "\n",
    "### Variables and their Descriptions:\n",
    "\n",
    "\n",
    "<details>\n",
    "<summary><b>Variable Descriptions</b></summary>\n",
    "\n",
    "| Variable | Description | \n",
    "|----|-------------|\n",
    "| position | Playing position of the player |\n",
    "| Round | Round player was drafted in |\n",
    "| forty | 40-yard dash time |\n",
    "| vertical | Vertical jump height (inches) |\n",
    "| bench_reps | 225 bench press reps |\n",
    "| broad_jump | Broad jump distances (inches) |\n",
    "| shuttle | 20-yard shuttle time |\n",
    "\n",
    "</details>"
   ]
  },
  {
   "cell_type": "markdown",
   "id": "93d650ca",
   "metadata": {},
   "source": [
    "---\n",
    "\n",
    "## Learning Goals\n",
    "\n",
    "- Learn about the 3 C's of Data cleaning\n",
    "- Basic principles of Data Cleaning\n",
    "- Data Imputation\n",
    "- Use Pandas for Data Cleaning\n",
    "- Learning about the Ethics of Data Cleaning"
   ]
  },
  {
   "cell_type": "markdown",
   "id": "6a43dc27",
   "metadata": {},
   "source": [
    "---\n",
    "\n",
    "# Data Cleaning and the \"Three C's\"\n",
    "\n",
    "Data cleaning is an essential part of data science and sports analytics. Most of the time, you need to clean up the dataset before using it because it won't always be in a correct or readable format. This brings us to the \"three C's\". This is a very important aspect of data science that provides basic guidance on what to look for when undergoing the data cleaning process. \n",
    "\n",
    "The three C's stand for:\n",
    "- Consistent\n",
    "- Complete\n",
    "- Correct\n"
   ]
  },
  {
   "cell_type": "markdown",
   "id": "83f73e33",
   "metadata": {},
   "source": [
    "_Consistent_: This means that your dataset is correctly formatted in a standardized fashion. All instances are properly formatted into their respective data types and there are no inconsistencies with test casing.\n",
    "\n",
    "_Complete_: There is no missing data. All missing values have been addressed by filling them with a reasonable substitute, imputation (we will discuss this later) and/or removing the data depending on the context (we will discuss the ethics of this later).\n",
    "\n",
    "_Correct_: Fixing inconsistent data entrys such as misspelled items, inconceivable outliers and/or ilogical errors such as negative ages.\n",
    "\n",
    "\n",
    "Let's break these down by diving into the football combine data!"
   ]
  },
  {
   "cell_type": "markdown",
   "id": "4f5180c0",
   "metadata": {},
   "source": [
    "---\n",
    "\n",
    "# Getting Started\n",
    "\n",
    "Before we get started let's import pandas so we can read in our data.\n",
    "\n",
    "NOTE: If one of the import statements does not work, you may need to download the library(s). Visit one of the links below for more information on downloading them.\n",
    "\n",
    "Pandas: https://pandas.pydata.org/docs/getting_started/install.html \n",
    "\n",
    "Numpy: https://numpy.org/install/\n",
    "\n",
    "Now, lets import our libraries:"
   ]
  },
  {
   "cell_type": "code",
   "execution_count": 2,
   "id": "866b9efd",
   "metadata": {},
   "outputs": [],
   "source": [
    "# Import necessary libraries\n",
    "\n",
    "#Import numpy library for numerical operations\n",
    "import numpy as np\n",
    "\n",
    "#Import pandas library for data manipulation and analysis\n",
    "import pandas as pd"
   ]
  },
  {
   "cell_type": "code",
   "execution_count": 3,
   "id": "4cf58608",
   "metadata": {},
   "outputs": [],
   "source": [
    "# Read the in the NFL Combine data and store it in a DataFrame\n",
    "combine_data = pd.read_csv('https://raw.githubusercontent.com/schuckers/Charlotte_SCORE_Summer25/refs/heads/main/Data%20for%20Modules/Data%20for%20Intro%20to%20Data%20Cleaning%20and%20Imputation%20by%20Austin%20Hayes/nfl_combine.csv')"
   ]
  },
  {
   "cell_type": "markdown",
   "id": "1a2f256b",
   "metadata": {},
   "source": [
    "Let's examine the first 5 rows of data to get a better look at the data"
   ]
  },
  {
   "cell_type": "code",
   "execution_count": 4,
   "id": "31c1636d",
   "metadata": {},
   "outputs": [
    {
     "data": {
      "application/vnd.microsoft.datawrangler.viewer.v0+json": {
       "columns": [
        {
         "name": "index",
         "rawType": "int64",
         "type": "integer"
        },
        {
         "name": "position",
         "rawType": "object",
         "type": "string"
        },
        {
         "name": "Round",
         "rawType": "float64",
         "type": "float"
        },
        {
         "name": "forty",
         "rawType": "float64",
         "type": "float"
        },
        {
         "name": "vertical",
         "rawType": "float64",
         "type": "float"
        },
        {
         "name": "bench_reps",
         "rawType": "float64",
         "type": "float"
        },
        {
         "name": "broad_jump",
         "rawType": "float64",
         "type": "float"
        },
        {
         "name": "three_cone",
         "rawType": "float64",
         "type": "float"
        },
        {
         "name": "shuttle",
         "rawType": "float64",
         "type": "float"
        }
       ],
       "ref": "a1ec8d92-3c59-46a7-9298-f0ea9f2f3cc8",
       "rows": [
        [
         "0",
         "QB",
         null,
         "4.79",
         "30.5",
         null,
         "110.0",
         "7.66",
         "4.41"
        ],
        [
         "1",
         "RB",
         null,
         "4.5",
         "34.0",
         "21.0",
         "121.0",
         "7.09",
         "4.3"
        ],
        [
         "2",
         "QB",
         null,
         "4.6",
         null,
         null,
         null,
         null,
         null
        ],
        [
         "3",
         "QB",
         null,
         "4.95",
         "30.0",
         null,
         "119.0",
         "7.44",
         "4.34"
        ],
        [
         "4",
         "WR",
         null,
         "4.78",
         "38.0",
         null,
         "118.0",
         null,
         "4.45"
        ]
       ],
       "shape": {
        "columns": 8,
        "rows": 5
       }
      },
      "text/html": [
       "<div>\n",
       "<style scoped>\n",
       "    .dataframe tbody tr th:only-of-type {\n",
       "        vertical-align: middle;\n",
       "    }\n",
       "\n",
       "    .dataframe tbody tr th {\n",
       "        vertical-align: top;\n",
       "    }\n",
       "\n",
       "    .dataframe thead th {\n",
       "        text-align: right;\n",
       "    }\n",
       "</style>\n",
       "<table border=\"1\" class=\"dataframe\">\n",
       "  <thead>\n",
       "    <tr style=\"text-align: right;\">\n",
       "      <th></th>\n",
       "      <th>position</th>\n",
       "      <th>Round</th>\n",
       "      <th>forty</th>\n",
       "      <th>vertical</th>\n",
       "      <th>bench_reps</th>\n",
       "      <th>broad_jump</th>\n",
       "      <th>three_cone</th>\n",
       "      <th>shuttle</th>\n",
       "    </tr>\n",
       "  </thead>\n",
       "  <tbody>\n",
       "    <tr>\n",
       "      <th>0</th>\n",
       "      <td>QB</td>\n",
       "      <td>NaN</td>\n",
       "      <td>4.79</td>\n",
       "      <td>30.5</td>\n",
       "      <td>NaN</td>\n",
       "      <td>110.0</td>\n",
       "      <td>7.66</td>\n",
       "      <td>4.41</td>\n",
       "    </tr>\n",
       "    <tr>\n",
       "      <th>1</th>\n",
       "      <td>RB</td>\n",
       "      <td>NaN</td>\n",
       "      <td>4.50</td>\n",
       "      <td>34.0</td>\n",
       "      <td>21.0</td>\n",
       "      <td>121.0</td>\n",
       "      <td>7.09</td>\n",
       "      <td>4.30</td>\n",
       "    </tr>\n",
       "    <tr>\n",
       "      <th>2</th>\n",
       "      <td>QB</td>\n",
       "      <td>NaN</td>\n",
       "      <td>4.60</td>\n",
       "      <td>NaN</td>\n",
       "      <td>NaN</td>\n",
       "      <td>NaN</td>\n",
       "      <td>NaN</td>\n",
       "      <td>NaN</td>\n",
       "    </tr>\n",
       "    <tr>\n",
       "      <th>3</th>\n",
       "      <td>QB</td>\n",
       "      <td>NaN</td>\n",
       "      <td>4.95</td>\n",
       "      <td>30.0</td>\n",
       "      <td>NaN</td>\n",
       "      <td>119.0</td>\n",
       "      <td>7.44</td>\n",
       "      <td>4.34</td>\n",
       "    </tr>\n",
       "    <tr>\n",
       "      <th>4</th>\n",
       "      <td>WR</td>\n",
       "      <td>NaN</td>\n",
       "      <td>4.78</td>\n",
       "      <td>38.0</td>\n",
       "      <td>NaN</td>\n",
       "      <td>118.0</td>\n",
       "      <td>NaN</td>\n",
       "      <td>4.45</td>\n",
       "    </tr>\n",
       "  </tbody>\n",
       "</table>\n",
       "</div>"
      ],
      "text/plain": [
       "  position  Round  forty  vertical  bench_reps  broad_jump  three_cone  \\\n",
       "0       QB    NaN   4.79      30.5         NaN       110.0        7.66   \n",
       "1       RB    NaN   4.50      34.0        21.0       121.0        7.09   \n",
       "2       QB    NaN   4.60       NaN         NaN         NaN         NaN   \n",
       "3       QB    NaN   4.95      30.0         NaN       119.0        7.44   \n",
       "4       WR    NaN   4.78      38.0         NaN       118.0         NaN   \n",
       "\n",
       "   shuttle  \n",
       "0     4.41  \n",
       "1     4.30  \n",
       "2      NaN  \n",
       "3     4.34  \n",
       "4     4.45  "
      ]
     },
     "execution_count": 4,
     "metadata": {},
     "output_type": "execute_result"
    }
   ],
   "source": [
    "# Reveal first 5 rows of the dataset\n",
    "combine_data.head()"
   ]
  },
  {
   "cell_type": "markdown",
   "id": "a6cf5e5b",
   "metadata": {},
   "source": [
    "Interesting! Looks like in just the first few rows, there are a lot of missing values."
   ]
  }
 ],
 "metadata": {
  "kernelspec": {
   "display_name": "Python 3",
   "language": "python",
   "name": "python3"
  },
  "language_info": {
   "codemirror_mode": {
    "name": "ipython",
    "version": 3
   },
   "file_extension": ".py",
   "mimetype": "text/x-python",
   "name": "python",
   "nbconvert_exporter": "python",
   "pygments_lexer": "ipython3",
   "version": "3.12.10"
  }
 },
 "nbformat": 4,
 "nbformat_minor": 5
}
