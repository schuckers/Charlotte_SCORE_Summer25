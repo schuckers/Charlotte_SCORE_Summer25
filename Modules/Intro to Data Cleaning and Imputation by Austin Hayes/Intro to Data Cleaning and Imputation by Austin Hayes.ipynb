{
 "cells": [
  {
   "cell_type": "markdown",
   "id": "0dd9b764",
   "metadata": {},
   "source": [
    "---\n",
    "Title: \"Data Cleaning and Imputation by Austin Hayes\"\n",
    "\n",
    "Author:\n",
    "  - Name: Austin Hayes\n",
    "\n",
    "  -  Email: ahayes65@charlotte.edu\n",
    "\n",
    "  -  Affiliation: University of North Carolina at Charlotte\n",
    "\n",
    "Date: June 26, 2025\n",
    "\n",
    "Description: Using 2024-2025 Season data from the English Premier League, we will be exploring the basic functions and uses of the Seaborn library in Python in order to learn about visualizations in Python.\n",
    "\n",
    "Categories:\n",
    "  - Interpreting findings\n",
    "  - Summary statistics\n",
    "  - Importing and Reading data\n",
    "  - Visualizations\n",
    "  - Data Science\n",
    "  - Seaborn\n",
    "\n",
    "\n",
    "### Data\n",
    "\n",
    "This Dataset is Originally from Ahmed Elsayed on Kaggle \n",
    "\n",
    "Visit the original data page here: https://www.kaggle.com/datasets/aesika/english-premier-league-player-stats-2425?resource=download\n",
    "\n",
    "The data set contains 562 rows and 57 columns. Each row represents an English Premier League player.\n",
    "\n",
    "Download data: \n",
    "\n",
    "Available on the [Seaborn and Basic visualizations in Python Using English Premier League data by Austin Hayes](https://github.com/schuckers/Charlotte_SCORE_Summer25/tree/main/Data%20for%20Modules/Data%20for%20Seaborn%20and%20Basic%20visualizations%20in%20Python%20Using%20English%20Premier%20League%20data%20by%20Austin%20Hayes): [epl_player_stats_24_25.csv](https://raw.githubusercontent.com/schuckers/Charlotte_SCORE_Summer25/refs/heads/main/Data%20for%20Modules/Data%20for%20Seaborn%20and%20Basic%20visualizations%20in%20Python%20Using%20English%20Premier%20League%20data%20by%20Austin%20Hayes/epl_player_stats_24_25.csv)\n",
    "\n",
    "---\n",
    "\n",
    "### Variables and their Descriptions:\n",
    "\n",
    "\n",
    "<details>\n",
    "<summary><b>Variable Descriptions</b></summary>\n",
    "\n",
    "\n",
    "\n",
    "</details>"
   ]
  }
 ],
 "metadata": {
  "language_info": {
   "name": "python"
  }
 },
 "nbformat": 4,
 "nbformat_minor": 5
}
