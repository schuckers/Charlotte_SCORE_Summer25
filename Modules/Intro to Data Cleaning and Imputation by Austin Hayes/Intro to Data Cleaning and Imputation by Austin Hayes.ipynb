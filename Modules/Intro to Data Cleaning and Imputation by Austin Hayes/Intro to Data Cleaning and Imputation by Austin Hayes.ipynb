{
 "cells": [
  {
   "cell_type": "markdown",
   "id": "0dd9b764",
   "metadata": {},
   "source": [
    "---\n",
    "Title: \"Data Cleaning and Imputation by Austin Hayes\"\n",
    "\n",
    "Author:\n",
    "  - Name: Austin Hayes\n",
    "\n",
    "  -  Email: ahayes65@charlotte.edu\n",
    "\n",
    "  -  Affiliation: University of North Carolina at Charlotte\n",
    "\n",
    "Date: June 26, 2025\n",
    "\n",
    "Description: Using NFL Scouting Combine Event scores from 2004 - 2023, we will learn about data cleaning and imputation in Python.\n",
    "\n",
    "Categories:\n",
    "  - Interpreting findings\n",
    "  - Ethics\n",
    "  - Importing and Reading data\n",
    "  - Data Cleaning\n",
    "  - Data Science\n",
    "  - Pandas\n",
    "  - Data Imputation\n",
    "\n",
    "\n",
    "### Data\n",
    "\n",
    "This Dataset is from the SCORE Network Data Repository. The authors include: Shane Hauk, Michael Schuckers and Robin Lock\n",
    "\n",
    "Visit the original data page here: https://data.scorenetwork.org/football/nfl-draft-combine.html\n",
    "\n",
    "The data set contains 6128 rows and 8 columns. Each row represents a player at the NFL Scouting Combine between 2004 and 2023.\n",
    "\n",
    "Download data: \n",
    "\n",
    "Available on the [Intro to Data Cleaning and Imputation by Austin Hayes](https://github.com/schuckers/Charlotte_SCORE_Summer25/tree/main/Data%20for%20Modules/Data%20for%20Intro%20to%20Data%20Cleaning%20and%20Imputation%20by%20Austin%20Hayes): [epl_player_stats_24_25.csv](https://raw.githubusercontent.com/schuckers/Charlotte_SCORE_Summer25/refs/heads/main/Data%20for%20Modules/Data%20for%20Intro%20to%20Data%20Cleaning%20and%20Imputation%20by%20Austin%20Hayes/nfl_combine.csv)\n",
    "\n",
    "---\n",
    "\n",
    "### Variables and their Descriptions:\n",
    "\n",
    "\n",
    "<details>\n",
    "<summary><b>Variable Descriptions</b></summary>\n",
    "\n",
    "| Variable | Description | \n",
    "|----|-------------|\n",
    "| position | Playing position of the player |\n",
    "| Round | Round player was drafted in |\n",
    "| forty | 40-yard dash time |\n",
    "| vertical | Vertical jump height (inches) |\n",
    "| bench_reps | 225 bench press reps |\n",
    "| broad_jump | Broad jump distances (inches) |\n",
    "| shuttle | 20-yard shuttle time |\n",
    "\n",
    "</details>"
   ]
  },
  {
   "cell_type": "markdown",
   "id": "93d650ca",
   "metadata": {},
   "source": [
    "---\n",
    "\n",
    "## Learning Goals\n",
    "\n",
    "- Learn about the 3 C's of Data cleaning\n",
    "- Basic principles of Data Cleaning\n",
    "- Data Imputation\n",
    "- Use Pandas for Data Cleaning\n",
    "- Learning about the Ethics of Data Cleaning"
   ]
  },
  {
   "cell_type": "markdown",
   "id": "6a43dc27",
   "metadata": {},
   "source": [
    "---\n",
    "\n",
    "# Data Cleaning and the \"Three C's\"\n",
    "\n",
    "Data cleaning is an essential part of data science and sports analytics. Most of the time, you need to clean up the dataset before using it because it won't always be in a correct or readable format. This brings us to the \"three C's\". This is a very important aspect of data science that provides basic guidance on what to look for when undergoing the data cleaning process. \n",
    "\n",
    "The three C's stand for:\n",
    "- Consistent\n",
    "- Complete\n",
    "- Correct\n"
   ]
  },
  {
   "cell_type": "markdown",
   "id": "83f73e33",
   "metadata": {},
   "source": [
    "_Consistent_: This means that your dataset is correctly formatted in a standardized fashion. All instances are properly formatted into their respective data types and there are no inconsistencies with test casing.\n",
    "\n",
    "_Complete_: There is no missing data. All missing values have been addressed by filling them with a reasonable substitute, imputation (we will discuss this later) and/or removing the data depending on the context (we will discuss the ethics of this later).\n",
    "\n",
    "_Correct_: Fixing inconsistent data entrys such as misspelled items, inconceivable outliers and/or ilogical errors such as negative ages.\n",
    "\n",
    "\n",
    "Let's break these down by diving into the football combine data! Let's get started by importing the neccesary librarys!"
   ]
  },
  {
   "cell_type": "code",
   "execution_count": null,
   "id": "866b9efd",
   "metadata": {},
   "outputs": [],
   "source": [
    "# Import necessary libraries\n",
    "\n",
    "#Import numpy library for numerical operations\n",
    "import numpy as np\n",
    "\n",
    "#Import pandas library for data manipulation and analysis\n",
    "import pandas as pd"
   ]
  },
  {
   "cell_type": "code",
   "execution_count": null,
   "id": "4cf58608",
   "metadata": {},
   "outputs": [],
   "source": [
    "# Read the in the NFL Combine data and store it in a DataFrame\n",
    "combine_data = pd.read_csv('https://raw.githubusercontent.com/schuckers/Charlotte_SCORE_Summer25/refs/heads/main/Data%20for%20Modules/Data%20for%20Intro%20to%20Data%20Cleaning%20and%20Imputation%20by%20Austin%20Hayes/nfl_combine.csv')"
   ]
  }
 ],
 "metadata": {
  "kernelspec": {
   "display_name": "Python 3",
   "language": "python",
   "name": "python3"
  },
  "language_info": {
   "codemirror_mode": {
    "name": "ipython",
    "version": 3
   },
   "file_extension": ".py",
   "mimetype": "text/x-python",
   "name": "python",
   "nbconvert_exporter": "python",
   "pygments_lexer": "ipython3",
   "version": "3.12.10"
  }
 },
 "nbformat": 4,
 "nbformat_minor": 5
}
