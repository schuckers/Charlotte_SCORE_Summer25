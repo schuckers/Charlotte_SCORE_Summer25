{
 "cells": [
  {
   "cell_type": "markdown",
   "id": "2abad8e1",
   "metadata": {},
   "source": [
    "---\n",
    "Title: \"Data Cleaning and Imputation by Austin Hayes\"\n",
    "\n",
    "Author:\n",
    "  - Name: Austin Hayes\n",
    "\n",
    "  -  Email: ahayes65@charlotte.edu\n",
    "\n",
    "  -  Affiliation: University of North Carolina at Charlotte\n",
    "\n",
    "Date: June 26, 2025\n",
    "\n",
    "Description: Using NFL Scouting Combine Event scores from 2004 - 2023, we will learn about data cleaning and imputation in Python.\n",
    "\n",
    "Categories:\n",
    "  - Interpreting findings\n",
    "  - Ethics\n",
    "  - Importing and Reading data\n",
    "  - Data Cleaning\n",
    "  - Data Science\n",
    "  - Pandas\n",
    "  - Data Imputation\n",
    "\n",
    "\n",
    "### Data\n",
    "\n",
    "This Dataset is from the SCORE Network Data Repository. The authors include: Shane Hauk, Michael Schuckers and Robin Lock\n",
    "\n",
    "Visit the original data page here: https://data.scorenetwork.org/football/nfl-draft-combine.html\n",
    "\n",
    "The data set contains 6128 rows and 8 columns. Each row represents a player at the NFL Scouting Combine between 2004 and 2023.\n",
    "\n",
    "Download data: \n",
    "\n",
    "Available on the [Intro to Data Cleaning and Imputation by Austin Hayes](https://github.com/schuckers/Charlotte_SCORE_Summer25/tree/main/Data%20for%20Modules/Data%20for%20Intro%20to%20Data%20Cleaning%20and%20Imputation%20by%20Austin%20Hayes): [epl_player_stats_24_25.csv](https://raw.githubusercontent.com/schuckers/Charlotte_SCORE_Summer25/refs/heads/main/Data%20for%20Modules/Data%20for%20Intro%20to%20Data%20Cleaning%20and%20Imputation%20by%20Austin%20Hayes/nfl_combine.csv)\n",
    "\n",
    "---\n",
    "\n",
    "### Variables and their Descriptions:\n",
    "\n",
    "\n",
    "<details>\n",
    "<summary><b>Variable Descriptions</b></summary>\n",
    "\n",
    "| Variable | Description | \n",
    "|----|-------------|\n",
    "| position | Playing position of the player |\n",
    "| Round | Round player was drafted in |\n",
    "| forty | 40-yard dash time |\n",
    "| vertical | Vertical jump height (inches) |\n",
    "| bench_reps | 225 bench press reps |\n",
    "| broad_jump | Broad jump distances (inches) |\n",
    "| shuttle | 20-yard shuttle time |\n",
    "\n",
    "</details>"
   ]
  },
  {
   "cell_type": "code",
   "execution_count": 1,
   "id": "0e321276",
   "metadata": {},
   "outputs": [],
   "source": [
    "#Import numpy library for numerical operations\n",
    "import numpy as np\n",
    "\n",
    "#Import pandas library for data manipulation and analysis\n",
    "import pandas as pd\n",
    "\n",
    "# Import linear regression model\n",
    "from sklearn.linear_model import LinearRegression"
   ]
  },
  {
   "cell_type": "markdown",
   "id": "c1f048dc",
   "metadata": {},
   "source": [
    "### 1. Why would someone want to change the datatype of a column during the data cleaning process?"
   ]
  },
  {
   "cell_type": "markdown",
   "id": "ca7f61b7",
   "metadata": {},
   "source": [
    "_ANSWER_: Somebody may want to change a columns datatype in order to complete the data cleaning process like we did during this module. A column may have been incorrectly typed such as a shoe size column. It should be read as a category and not as a numerical quantity. Therefore its data type should NOT be a float, it should be an object. Someone may also want to change a columns datatype in order to achieve specific data filling needs. For example, we used both of these reasons to change the datatype of the 'Round' column during the module. We needed to fill NA values as 'Undrafted' and the 'Round' a player is drafted is interpreted as a category, NOT a quantity/measure."
   ]
  },
  {
   "cell_type": "markdown",
   "id": "b4ba34a9",
   "metadata": {},
   "source": [
    "### 2. Re-read in the ORIGINAL dataset, split it into a complete and missing datasets like we did earlier. Find the median value of the 'bench_reps' column in the missing dataset. Then, use that median value to fill in ALL of the NA values within that column in the missing dataset. Check the number of NA values to make sure they are filled in correctly.\n",
    "\n",
    "HINT: use .median()"
   ]
  },
  {
   "cell_type": "code",
   "execution_count": 15,
   "id": "4722c47b",
   "metadata": {},
   "outputs": [],
   "source": [
    "# Re-Read original dataset\n",
    "combine_data = pd.read_csv('https://raw.githubusercontent.com/schuckers/Charlotte_SCORE_Summer25/refs/heads/main/Data%20for%20Modules/Data%20for%20Intro%20to%20Data%20Cleaning%20and%20Imputation%20by%20Austin%20Hayes/nfl_combine.csv')\n",
    "\n",
    "# Split the dataset into complete and missing datasets\n",
    "# Complete dataset contains rows with no missing values\n",
    "complete_data = combine_data.dropna()\n",
    "\n",
    "# Missing dataset contains rows with at least one missing value\n",
    "missing_data = combine_data[combine_data.isna().any(axis=1)]"
   ]
  },
  {
   "cell_type": "code",
   "execution_count": 16,
   "id": "d6c6c05c",
   "metadata": {},
   "outputs": [
    {
     "data": {
      "application/vnd.microsoft.datawrangler.viewer.v0+json": {
       "columns": [
        {
         "name": "index",
         "rawType": "int64",
         "type": "integer"
        },
        {
         "name": "position",
         "rawType": "object",
         "type": "string"
        },
        {
         "name": "Round",
         "rawType": "float64",
         "type": "float"
        },
        {
         "name": "forty",
         "rawType": "float64",
         "type": "float"
        },
        {
         "name": "vertical",
         "rawType": "float64",
         "type": "float"
        },
        {
         "name": "bench_reps",
         "rawType": "float64",
         "type": "float"
        },
        {
         "name": "broad_jump",
         "rawType": "float64",
         "type": "float"
        },
        {
         "name": "three_cone",
         "rawType": "float64",
         "type": "float"
        },
        {
         "name": "shuttle",
         "rawType": "float64",
         "type": "float"
        }
       ],
       "ref": "128f6dc3-f9bf-4e6c-9cc9-e9f237677d11",
       "rows": [
        [
         "0",
         "QB",
         null,
         "4.79",
         "30.5",
         null,
         "110.0",
         "7.66",
         "4.41"
        ],
        [
         "1",
         "RB",
         null,
         "4.5",
         "34.0",
         "21.0",
         "121.0",
         "7.09",
         "4.3"
        ],
        [
         "2",
         "QB",
         null,
         "4.6",
         null,
         null,
         null,
         null,
         null
        ],
        [
         "3",
         "QB",
         null,
         "4.95",
         "30.0",
         null,
         "119.0",
         "7.44",
         "4.34"
        ],
        [
         "4",
         "WR",
         null,
         "4.78",
         "38.0",
         null,
         "118.0",
         null,
         "4.45"
        ]
       ],
       "shape": {
        "columns": 8,
        "rows": 5
       }
      },
      "text/html": [
       "<div>\n",
       "<style scoped>\n",
       "    .dataframe tbody tr th:only-of-type {\n",
       "        vertical-align: middle;\n",
       "    }\n",
       "\n",
       "    .dataframe tbody tr th {\n",
       "        vertical-align: top;\n",
       "    }\n",
       "\n",
       "    .dataframe thead th {\n",
       "        text-align: right;\n",
       "    }\n",
       "</style>\n",
       "<table border=\"1\" class=\"dataframe\">\n",
       "  <thead>\n",
       "    <tr style=\"text-align: right;\">\n",
       "      <th></th>\n",
       "      <th>position</th>\n",
       "      <th>Round</th>\n",
       "      <th>forty</th>\n",
       "      <th>vertical</th>\n",
       "      <th>bench_reps</th>\n",
       "      <th>broad_jump</th>\n",
       "      <th>three_cone</th>\n",
       "      <th>shuttle</th>\n",
       "    </tr>\n",
       "  </thead>\n",
       "  <tbody>\n",
       "    <tr>\n",
       "      <th>0</th>\n",
       "      <td>QB</td>\n",
       "      <td>NaN</td>\n",
       "      <td>4.79</td>\n",
       "      <td>30.5</td>\n",
       "      <td>NaN</td>\n",
       "      <td>110.0</td>\n",
       "      <td>7.66</td>\n",
       "      <td>4.41</td>\n",
       "    </tr>\n",
       "    <tr>\n",
       "      <th>1</th>\n",
       "      <td>RB</td>\n",
       "      <td>NaN</td>\n",
       "      <td>4.50</td>\n",
       "      <td>34.0</td>\n",
       "      <td>21.0</td>\n",
       "      <td>121.0</td>\n",
       "      <td>7.09</td>\n",
       "      <td>4.30</td>\n",
       "    </tr>\n",
       "    <tr>\n",
       "      <th>2</th>\n",
       "      <td>QB</td>\n",
       "      <td>NaN</td>\n",
       "      <td>4.60</td>\n",
       "      <td>NaN</td>\n",
       "      <td>NaN</td>\n",
       "      <td>NaN</td>\n",
       "      <td>NaN</td>\n",
       "      <td>NaN</td>\n",
       "    </tr>\n",
       "    <tr>\n",
       "      <th>3</th>\n",
       "      <td>QB</td>\n",
       "      <td>NaN</td>\n",
       "      <td>4.95</td>\n",
       "      <td>30.0</td>\n",
       "      <td>NaN</td>\n",
       "      <td>119.0</td>\n",
       "      <td>7.44</td>\n",
       "      <td>4.34</td>\n",
       "    </tr>\n",
       "    <tr>\n",
       "      <th>4</th>\n",
       "      <td>WR</td>\n",
       "      <td>NaN</td>\n",
       "      <td>4.78</td>\n",
       "      <td>38.0</td>\n",
       "      <td>NaN</td>\n",
       "      <td>118.0</td>\n",
       "      <td>NaN</td>\n",
       "      <td>4.45</td>\n",
       "    </tr>\n",
       "  </tbody>\n",
       "</table>\n",
       "</div>"
      ],
      "text/plain": [
       "  position  Round  forty  vertical  bench_reps  broad_jump  three_cone  \\\n",
       "0       QB    NaN   4.79      30.5         NaN       110.0        7.66   \n",
       "1       RB    NaN   4.50      34.0        21.0       121.0        7.09   \n",
       "2       QB    NaN   4.60       NaN         NaN         NaN         NaN   \n",
       "3       QB    NaN   4.95      30.0         NaN       119.0        7.44   \n",
       "4       WR    NaN   4.78      38.0         NaN       118.0         NaN   \n",
       "\n",
       "   shuttle  \n",
       "0     4.41  \n",
       "1     4.30  \n",
       "2      NaN  \n",
       "3     4.34  \n",
       "4     4.45  "
      ]
     },
     "execution_count": 16,
     "metadata": {},
     "output_type": "execute_result"
    }
   ],
   "source": [
    "missing_data.head()"
   ]
  },
  {
   "cell_type": "code",
   "execution_count": 17,
   "id": "f1094e59",
   "metadata": {},
   "outputs": [
    {
     "name": "stdout",
     "output_type": "stream",
     "text": [
      "1820\n"
     ]
    }
   ],
   "source": [
    "# Keep original count of NA's in the 'Bench_Reps' column\n",
    "original_na_count = missing_data['bench_reps'].isna().sum()\n",
    "\n",
    "# Print that count\n",
    "print(original_na_count)"
   ]
  },
  {
   "cell_type": "code",
   "execution_count": 18,
   "id": "6e36f62b",
   "metadata": {},
   "outputs": [
    {
     "name": "stderr",
     "output_type": "stream",
     "text": [
      "C:\\Users\\austy\\AppData\\Local\\Temp\\ipykernel_18556\\1966330212.py:2: SettingWithCopyWarning: \n",
      "A value is trying to be set on a copy of a slice from a DataFrame.\n",
      "Try using .loc[row_indexer,col_indexer] = value instead\n",
      "\n",
      "See the caveats in the documentation: https://pandas.pydata.org/pandas-docs/stable/user_guide/indexing.html#returning-a-view-versus-a-copy\n",
      "  missing_data['bench_reps'] = missing_data['bench_reps'].fillna(missing_data['bench_reps'].median())\n"
     ]
    }
   ],
   "source": [
    "# Fill in all NA values in the 'Bench_Reps' column with the median value\n",
    "missing_data['bench_reps'] = missing_data['bench_reps'].fillna(missing_data['bench_reps'].median())"
   ]
  },
  {
   "cell_type": "code",
   "execution_count": 19,
   "id": "5afbd38b",
   "metadata": {},
   "outputs": [
    {
     "name": "stdout",
     "output_type": "stream",
     "text": [
      "0\n"
     ]
    }
   ],
   "source": [
    "# Keep original count of NA's in the 'Bench_Reps' column\n",
    "new_na_count = missing_data['bench_reps'].isna().sum()\n",
    "\n",
    "# Print that count\n",
    "print(new_na_count)"
   ]
  },
  {
   "cell_type": "code",
   "execution_count": 20,
   "id": "1fc05e0a",
   "metadata": {},
   "outputs": [
    {
     "data": {
      "application/vnd.microsoft.datawrangler.viewer.v0+json": {
       "columns": [
        {
         "name": "index",
         "rawType": "int64",
         "type": "integer"
        },
        {
         "name": "position",
         "rawType": "object",
         "type": "string"
        },
        {
         "name": "Round",
         "rawType": "float64",
         "type": "float"
        },
        {
         "name": "forty",
         "rawType": "float64",
         "type": "float"
        },
        {
         "name": "vertical",
         "rawType": "float64",
         "type": "float"
        },
        {
         "name": "bench_reps",
         "rawType": "float64",
         "type": "float"
        },
        {
         "name": "broad_jump",
         "rawType": "float64",
         "type": "float"
        },
        {
         "name": "three_cone",
         "rawType": "float64",
         "type": "float"
        },
        {
         "name": "shuttle",
         "rawType": "float64",
         "type": "float"
        }
       ],
       "ref": "c18f2b2a-303c-43f4-a3cb-e809ac78a662",
       "rows": [
        [
         "0",
         "QB",
         null,
         "4.79",
         "30.5",
         "20.0",
         "110.0",
         "7.66",
         "4.41"
        ],
        [
         "1",
         "RB",
         null,
         "4.5",
         "34.0",
         "21.0",
         "121.0",
         "7.09",
         "4.3"
        ],
        [
         "2",
         "QB",
         null,
         "4.6",
         null,
         "20.0",
         null,
         null,
         null
        ],
        [
         "3",
         "QB",
         null,
         "4.95",
         "30.0",
         "20.0",
         "119.0",
         "7.44",
         "4.34"
        ],
        [
         "4",
         "WR",
         null,
         "4.78",
         "38.0",
         "20.0",
         "118.0",
         null,
         "4.45"
        ]
       ],
       "shape": {
        "columns": 8,
        "rows": 5
       }
      },
      "text/html": [
       "<div>\n",
       "<style scoped>\n",
       "    .dataframe tbody tr th:only-of-type {\n",
       "        vertical-align: middle;\n",
       "    }\n",
       "\n",
       "    .dataframe tbody tr th {\n",
       "        vertical-align: top;\n",
       "    }\n",
       "\n",
       "    .dataframe thead th {\n",
       "        text-align: right;\n",
       "    }\n",
       "</style>\n",
       "<table border=\"1\" class=\"dataframe\">\n",
       "  <thead>\n",
       "    <tr style=\"text-align: right;\">\n",
       "      <th></th>\n",
       "      <th>position</th>\n",
       "      <th>Round</th>\n",
       "      <th>forty</th>\n",
       "      <th>vertical</th>\n",
       "      <th>bench_reps</th>\n",
       "      <th>broad_jump</th>\n",
       "      <th>three_cone</th>\n",
       "      <th>shuttle</th>\n",
       "    </tr>\n",
       "  </thead>\n",
       "  <tbody>\n",
       "    <tr>\n",
       "      <th>0</th>\n",
       "      <td>QB</td>\n",
       "      <td>NaN</td>\n",
       "      <td>4.79</td>\n",
       "      <td>30.5</td>\n",
       "      <td>20.0</td>\n",
       "      <td>110.0</td>\n",
       "      <td>7.66</td>\n",
       "      <td>4.41</td>\n",
       "    </tr>\n",
       "    <tr>\n",
       "      <th>1</th>\n",
       "      <td>RB</td>\n",
       "      <td>NaN</td>\n",
       "      <td>4.50</td>\n",
       "      <td>34.0</td>\n",
       "      <td>21.0</td>\n",
       "      <td>121.0</td>\n",
       "      <td>7.09</td>\n",
       "      <td>4.30</td>\n",
       "    </tr>\n",
       "    <tr>\n",
       "      <th>2</th>\n",
       "      <td>QB</td>\n",
       "      <td>NaN</td>\n",
       "      <td>4.60</td>\n",
       "      <td>NaN</td>\n",
       "      <td>20.0</td>\n",
       "      <td>NaN</td>\n",
       "      <td>NaN</td>\n",
       "      <td>NaN</td>\n",
       "    </tr>\n",
       "    <tr>\n",
       "      <th>3</th>\n",
       "      <td>QB</td>\n",
       "      <td>NaN</td>\n",
       "      <td>4.95</td>\n",
       "      <td>30.0</td>\n",
       "      <td>20.0</td>\n",
       "      <td>119.0</td>\n",
       "      <td>7.44</td>\n",
       "      <td>4.34</td>\n",
       "    </tr>\n",
       "    <tr>\n",
       "      <th>4</th>\n",
       "      <td>WR</td>\n",
       "      <td>NaN</td>\n",
       "      <td>4.78</td>\n",
       "      <td>38.0</td>\n",
       "      <td>20.0</td>\n",
       "      <td>118.0</td>\n",
       "      <td>NaN</td>\n",
       "      <td>4.45</td>\n",
       "    </tr>\n",
       "  </tbody>\n",
       "</table>\n",
       "</div>"
      ],
      "text/plain": [
       "  position  Round  forty  vertical  bench_reps  broad_jump  three_cone  \\\n",
       "0       QB    NaN   4.79      30.5        20.0       110.0        7.66   \n",
       "1       RB    NaN   4.50      34.0        21.0       121.0        7.09   \n",
       "2       QB    NaN   4.60       NaN        20.0         NaN         NaN   \n",
       "3       QB    NaN   4.95      30.0        20.0       119.0        7.44   \n",
       "4       WR    NaN   4.78      38.0        20.0       118.0         NaN   \n",
       "\n",
       "   shuttle  \n",
       "0     4.41  \n",
       "1     4.30  \n",
       "2      NaN  \n",
       "3     4.34  \n",
       "4     4.45  "
      ]
     },
     "execution_count": 20,
     "metadata": {},
     "output_type": "execute_result"
    }
   ],
   "source": [
    "missing_data.head()"
   ]
  },
  {
   "cell_type": "markdown",
   "id": "83f6ac91",
   "metadata": {},
   "source": [
    "### 3. What does data completeness mean? List some appropriate ways you could achieve data completeness."
   ]
  },
  {
   "cell_type": "markdown",
   "id": "1b585c55",
   "metadata": {},
   "source": [
    "Data completeness means that there are NO missing datapoints in the dataset. Every NA value has been addressed appropriately. Some ways you could achieve completeness: Imputation, dropping all rows with missing values (when there is a small amount and depending on the context), changing a column datatype and filling in values (in special cases), etc."
   ]
  },
  {
   "cell_type": "markdown",
   "id": "ad1184a4",
   "metadata": {},
   "source": [
    "### 4. Which one of the three C's was not implemented in the following dataset? What could be done to fix it? \n",
    "\n",
    "| Position | Bench_Reps |\n",
    "|----------|------------|\n",
    "| TIGHT END |    35     |\n",
    "| Quarterback |    25   |\n",
    "| Tight end |    32     |\n",
    "| Quarterback |   23    |"
   ]
  },
  {
   "cell_type": "markdown",
   "id": "af3819a3",
   "metadata": {},
   "source": [
    "Data Consistency was not implemented in this case. All of the 'Position' data entrys are entered with only the first letter capitalized. The first tight end data entry is in all caps which does not adhere to the other entry(s). 'TIGHT END' should be changed to 'Tight end', just like the other tight end entry."
   ]
  },
  {
   "cell_type": "markdown",
   "id": "0a5351a1",
   "metadata": {},
   "source": [
    "### 5. Use a linear regression model to predict 'bench_reps' for players who, we presume, did NOT participate in benching during the combine."
   ]
  }
 ],
 "metadata": {
  "kernelspec": {
   "display_name": "Python 3",
   "language": "python",
   "name": "python3"
  },
  "language_info": {
   "codemirror_mode": {
    "name": "ipython",
    "version": 3
   },
   "file_extension": ".py",
   "mimetype": "text/x-python",
   "name": "python",
   "nbconvert_exporter": "python",
   "pygments_lexer": "ipython3",
   "version": "3.12.10"
  }
 },
 "nbformat": 4,
 "nbformat_minor": 5
}
