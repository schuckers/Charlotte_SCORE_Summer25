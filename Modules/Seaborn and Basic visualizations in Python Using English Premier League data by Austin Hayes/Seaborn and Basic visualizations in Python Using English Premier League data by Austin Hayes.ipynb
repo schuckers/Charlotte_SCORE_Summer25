{
 "cells": [
  {
   "cell_type": "markdown",
   "id": "1b17b4d7",
   "metadata": {},
   "source": [
    "---\n",
    "Title: \"Seaborn and Basic visualizations in Python Using English Premier League data by Austin Hayes\"\n",
    "\n",
    "Author:\n",
    "  - Name: Austin Hayes\n",
    "\n",
    "  -  Email: ahayes65@charlotte.edu\n",
    "\n",
    "  -  Affiliation: University of North Carolina at Charlotte\n",
    "\n",
    "Date: June 26, 2025\n",
    "\n",
    "Description: Using 2024-2025 Season data from the English Premier League, we will be exploring the basic functions and uses of the Seaborn library in Python in order to learn about visualizations in Python.\n",
    "\n",
    "Categories:\n",
    "  - Interpreting findings\n",
    "  - Summary statistics\n",
    "  - Importing and Reading data\n",
    "  - Visualizations\n",
    "  - Data Science\n",
    "  - Seaborn\n",
    "\n",
    "\n",
    "### Data\n",
    "\n",
    "This Dataset is Originally from Ahmed Elsayed on Kaggle \n",
    "\n",
    "Visit the original data page here: https://www.kaggle.com/datasets/aesika/english-premier-league-player-stats-2425?resource=download\n",
    "\n",
    "The data set contains 562 rows and 57 columns. Each row represents an English Premier League player.\n",
    "\n",
    "Download data: \n",
    "\n",
    "Available on the [Seaborn and Basic visualizations in Python Using English Premier League data by Austin Hayes](https://github.com/schuckers/Charlotte_SCORE_Summer25/tree/main/Data%20for%20Modules/Data%20for%20Seaborn%20and%20Basic%20visualizations%20in%20Python%20Using%20English%20Premier%20League%20data%20by%20Austin%20Hayes): [epl_player_stats_24_25.csv](https://raw.githubusercontent.com/schuckers/Charlotte_SCORE_Summer25/refs/heads/main/Data%20for%20Modules/Data%20for%20Seaborn%20and%20Basic%20visualizations%20in%20Python%20Using%20English%20Premier%20League%20data%20by%20Austin%20Hayes/epl_player_stats_24_25.csv)\n"
   ]
  },
  {
   "cell_type": "markdown",
   "id": "f4ad8d90",
   "metadata": {},
   "source": [
    "---\n",
    "\n",
    "# Learning Goals:\n",
    "\n",
    "\n",
    "- Learn about the use of the Seaborn library\n",
    "- Create vizualizations from the Seaborn library\n",
    "- Interpret findings from vizualizations"
   ]
  },
  {
   "cell_type": "markdown",
   "id": "baa1ae52",
   "metadata": {},
   "source": [
    "---\n",
    "\n",
    "# Introduction:\n",
    "\n",
    "This SCORE module will be an introduction to vizualizations and the Seaborn library in Python. We will go over some of the basic items needed to use Python and Seaborn throughout this module. \n",
    "\n",
    "Some of the Topics we will be discussing: \n",
    "\n",
    "- Interpreting findings\n",
    "- Summary statistics\n",
    "- Importing and reading data\n",
    "- Visualizations\n",
    "- Data Science\n",
    "- Seaborn"
   ]
  },
  {
   "cell_type": "markdown",
   "id": "21523829",
   "metadata": {},
   "source": [
    "---\n",
    "\n",
    "# Getting Started\n",
    "\n",
    "Before we get started let's import pandas so we can read in our data. We also want to import Seaborn so we can start making our vizualizations.\n",
    "\n",
    "NOTE: If one of the import statements does not work, you may need to download the library(s). Visit one of the links below for more information on dowloading them.\n",
    "\n",
    "Pandas: https://pandas.pydata.org/docs/getting_started/install.html \n",
    "\n",
    "Seaborn: https://seaborn.pydata.org/installing.html\n",
    "\n",
    "Numpy: https://numpy.org/install/\n",
    "\n",
    "Now, lets import our libraries:"
   ]
  },
  {
   "cell_type": "code",
   "execution_count": 1,
   "id": "2f95a6df",
   "metadata": {},
   "outputs": [],
   "source": [
    "# Import pandas library\n",
    "# This library is used for data manipulation and analysis\n",
    "import pandas as pd\n",
    "\n",
    "# Import numpy library\n",
    "# This library is used for numerical operations\n",
    "import numpy as np  \n",
    "\n",
    "# Import Seaborn library\n",
    "# This library is used for statistical data visualization\n",
    "import seaborn as sns"
   ]
  },
  {
   "cell_type": "markdown",
   "id": "6adfd6c0",
   "metadata": {},
   "source": [
    "Now that we have imported the Pandas library, let's import our Soccer data."
   ]
  },
  {
   "cell_type": "code",
   "execution_count": 4,
   "id": "87c569d2",
   "metadata": {},
   "outputs": [],
   "source": [
    "# Read the English Premier League player statistics data from a CSV file\n",
    "# The data contains player stats for the 2024-2025 season\n",
    "# The file is hosted on GitHub and is read directly into a Pandas DataFrame\n",
    "premier_league_data = pd.read_csv('https://raw.githubusercontent.com/schuckers/Charlotte_SCORE_Summer25/refs/heads/main/Data%20for%20Modules/Data%20for%20Seaborn%20and%20Basic%20visualizations%20in%20Python%20Using%20English%20Premier%20League%20data%20by%20Austin%20Hayes/epl_player_stats_24_25.csv')"
   ]
  },
  {
   "cell_type": "code",
   "execution_count": 6,
   "id": "221525cc",
   "metadata": {},
   "outputs": [
    {
     "data": {
      "text/plain": [
       "Index(['Player Name', 'Club', 'Nationality', 'Position', 'Appearances',\n",
       "       'Minutes', 'Goals', 'Assists', 'Shots', 'Shots On Target',\n",
       "       'Conversion %', 'Big Chances Missed', 'Hit Woodwork', 'Offsides',\n",
       "       'Touches', 'Passes', 'Successful Passes', 'Passes%', 'Crosses',\n",
       "       'Successful Crosses', 'Crosses %', 'fThird Passes',\n",
       "       'Successful fThird Passes', 'fThird Passes %', 'Through Balls',\n",
       "       'Carries', 'Progressive Carries', 'Carries Ended with Goal',\n",
       "       'Carries Ended with Assist', 'Carries Ended with Shot',\n",
       "       'Carries Ended with Chance', 'Possession Won', 'Dispossessed',\n",
       "       'Clean Sheets', 'Clearances', 'Interceptions', 'Blocks', 'Tackles',\n",
       "       'Ground Duels', 'gDuels Won', 'gDuels %', 'Aerial Duels', 'aDuels Won',\n",
       "       'aDuels %', 'Goals Conceded', 'xGoT Conceded', 'Own Goals', 'Fouls',\n",
       "       'Yellow Cards', 'Red Cards', 'Saves', 'Saves %', 'Penalties Saved',\n",
       "       'Clearances Off Line', 'Punches', 'High Claims', 'Goals Prevented'],\n",
       "      dtype='object')"
      ]
     },
     "execution_count": 6,
     "metadata": {},
     "output_type": "execute_result"
    }
   ],
   "source": [
    "premier_league_data.columns"
   ]
  },
  {
   "cell_type": "markdown",
   "id": "86793bf4",
   "metadata": {},
   "source": [
    "# Scatterplot"
   ]
  },
  {
   "cell_type": "markdown",
   "id": "6cf5a6a0",
   "metadata": {},
   "source": [
    "A scatterplot is a useful graph that displays the relationship between 2 numerical variables. Scatterplots are powerful in that they provide a visual for correlation analysis between different measures. \n",
    "\n",
    "For example, let's say that we want to explore the relationship between succesful crosses and goals scored.\n",
    "\n",
    "Run the code below:"
   ]
  },
  {
   "cell_type": "code",
   "execution_count": 8,
   "id": "478d7a96",
   "metadata": {},
   "outputs": [
    {
     "data": {
      "text/plain": [
       "<Axes: xlabel='Successful Crosses', ylabel='Goals'>"
      ]
     },
     "execution_count": 8,
     "metadata": {},
     "output_type": "execute_result"
    },
    {
     "data": {
      "image/png": "[encoded data removed]",
      "text/plain": [
       "<Figure size 640x480 with 1 Axes>"
      ]
     },
     "metadata": {},
     "output_type": "display_data"
    }
   ],
   "source": [
    "# Create a scatterplot to visualize the relationship between successful crosses and goals scored\n",
    "sns.scatterplot(data = premier_league_data, x='Successful Crosses', y='Goals')"
   ]
  },
  {
   "cell_type": "markdown",
   "id": "bf75ef23",
   "metadata": {},
   "source": [
    "Very Interesting. It seems as though there is a weak to possibly moderate negative relationship between the number of goals versus the number of successful crosses a player has. Now let's organize that finding into an interpretation.\n",
    "\n",
    "\"Accroding to the scatterplot, when a player completes more crosses, the number of goals scored decreases.\"\n",
    "\n",
    "\"According to the scatterplot, there is a weak to moderate relationship between the number of goals scored and the number of successful crosses among Premier League players during the 2024 - 2025 season.\""
   ]
  }
 ],
 "metadata": {
  "kernelspec": {
   "display_name": "Python 3",
   "language": "python",
   "name": "python3"
  },
  "language_info": {
   "codemirror_mode": {
    "name": "ipython",
    "version": 3
   },
   "file_extension": ".py",
   "mimetype": "text/x-python",
   "name": "python",
   "nbconvert_exporter": "python",
   "pygments_lexer": "ipython3",
   "version": "3.12.10"
  }
 },
 "nbformat": 4,
 "nbformat_minor": 5
}
