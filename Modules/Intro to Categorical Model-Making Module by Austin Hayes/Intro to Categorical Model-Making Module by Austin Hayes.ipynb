{
 "cells": [
  {
   "cell_type": "markdown",
   "id": "d0bbe180",
   "metadata": {},
   "source": [
    "---\n",
    "Title: \"Intro to Categorical Model-Making Module by Austin Hayes\"\n",
    "\n",
    "Author:\n",
    "  - Name: Austin Hayes\n",
    "\n",
    "  -  Email: ahayes65@charlotte.edu\n",
    "\n",
    "  -  Affiliation: University of North Carolina at Charlotte\n",
    "\n",
    "Date: July 29, 2025\n",
    "\n",
    "Description: Using 2024 WNBA Team 'Per Game' stats, we will review the basics of categorical model-making. We will make QDA, LDA and Logistic models in order to predict which team will become the next WNBA Champion.\n",
    "\n",
    "Categories:\n",
    "  - Logistic Regression\n",
    "  - Quadratic Discriminant Analysis\n",
    "  - Linear Discriminant Analysis\n",
    "  - Importing and Reading data\n",
    "  - Data Cleaning\n",
    "  - Data Science\n",
    "  - Pandas\n",
    "\n",
    "\n",
    "### Data\n",
    "\n",
    "This Dataset is from Basketball Reference @ https://www.basketball-reference.com\n",
    "\n",
    "Visit the original data page here: https://www.basketball-reference.com/wnba/years/2024.html\n",
    "\n",
    "The data set contains 13 rows and 25 columns. Each row represents a WNBA team during the 2024 season. Meaning, the new expansion teams will not be included in this data.\n",
    "\n",
    "Download data: \n",
    "\n",
    "Available on the [Intro to Categorical Model-Making Module by Austin Hayes](https://github.com/schuckers/Charlotte_SCORE_Summer25/tree/main/Data%20for%20Modules/Data%20For%20Intro%20to%20Categorical%20Model-Making%20Module%20by%20Austin%20Hayes): [2024_WNBA_Per_Game.csv](https://raw.githubusercontent.com/schuckers/Charlotte_SCORE_Summer25/refs/heads/main/Data%20for%20Modules/Data%20For%20Intro%20to%20Categorical%20Model-Making%20Module%20by%20Austin%20Hayes/2024_WNBA_Per_Game.csv)\n",
    "\n",
    "---\n",
    "\n",
    "### Variables and their Descriptions:\n",
    "\n",
    "\n",
    "<details>\n",
    "<summary><b>Variable Descriptions</b></summary>\n",
    "\n",
    "| Variable | Description |\n",
    "|----------|-------------|\n",
    "| Rk       | Rank of the team in the league |\n",
    "| Team     | Name of the team |\n",
    "| G        | Games played |\n",
    "| MP       | Minutes played per game |\n",
    "| FG       | Field Goals made per game |\n",
    "| FGA      | Field Goal attempts per game |\n",
    "| FG%      | Field Goal percentage (FG ÷ FGA) |\n",
    "| 3P       | Three-Point Field Goals made per game |\n",
    "| 3PA      | Three-Point Field Goal attempts per game |\n",
    "| 3P%      | Three-Point Field Goal percentage (3P ÷ 3PA) |\n",
    "| 2P       | Two-Point Field Goals made per game |\n",
    "| 2PA      | Two-Point Field Goal attempts per game |\n",
    "| 2P%      | Two-Point Field Goal percentage (2P ÷ 2PA) |\n",
    "| FT       | Free Throws made per game |\n",
    "| FTA      | Free Throw attempts per game |\n",
    "| FT%      | Free Throw percentage (FT ÷ FTA) |\n",
    "| ORB      | Offensive Rebounds per game |\n",
    "| DRB      | Defensive Rebounds per game |\n",
    "| TRB      | Total Rebounds per game |\n",
    "| AST      | Assists per game |\n",
    "| STL      | Steals per game |\n",
    "| BLK      | Blocks per game |\n",
    "| TOV      | Turnovers per game |\n",
    "| PF       | Personal Fouls per game |\n",
    "| PTS      | Points scored per game |\n",
    "\n",
    "</details>"
   ]
  },
  {
   "cell_type": "markdown",
   "id": "3a9916f6",
   "metadata": {},
   "source": [
    "---\n",
    "\n",
    "# Learning Goals\n",
    "\n",
    "- Learn about the basics of categorical modeling\n",
    "- Compare and contrast models using statistical metrics\n",
    "- Learn about Quadratic Discriminant Analysis\n",
    "- Learn about Linear Discriminant Analysis\n",
    "- Learn about Logistic Regression"
   ]
  },
  {
   "cell_type": "markdown",
   "id": "690f9ad4",
   "metadata": {},
   "source": [
    "---\n",
    "\n",
    "# Getting Started\n",
    "\n",
    "\n",
    "In this lesson, we will learn about categorical modeling in order to predict the outcome of a certain event based on past and current metrics. \n",
    "\n",
    "Today, we will be predicting what team will be the WNBA champion this year! Before we get started, we need to import certain librarys in order to achieve this goal.\n",
    "\n",
    "If you don't have any of these librarys downloaded, you can learn about how to do so with the following links:\n",
    "\n",
    "Pandas: https://pandas.pydata.org/docs/getting_started/install.html \n",
    "\n",
    "Numpy: https://numpy.org/install/\n",
    "\n",
    "Sci-Kit Learn: https://scikit-learn.org/stable/install.html\n",
    "\n",
    "After downloading those librarys, let's import them."
   ]
  },
  {
   "cell_type": "code",
   "execution_count": 1,
   "id": "2f6a3b23",
   "metadata": {},
   "outputs": [],
   "source": [
    "# Import the necessary librarys for the module\n",
    "\n",
    "# Basic Data Science Library for importing data and data manipulation\n",
    "import pandas as pd\n",
    "\n",
    "# Library for mathematical operations\n",
    "import numpy as np\n",
    "\n",
    "# Import only the necessary functions from the sklearn library\n",
    "from sklearn.model_selection import train_test_split\n",
    "from sklearn.preprocessing import StandardScaler\n",
    "from sklearn.linear_model import LogisticRegression\n",
    "from sklearn.metrics import confusion_matrix, accuracy_score, precision_score, recall_score, f1_score\n",
    "from sklearn.discriminant_analysis import LinearDiscriminantAnalysis, QuadraticDiscriminantAnalysis"
   ]
  },
  {
   "cell_type": "markdown",
   "id": "c0ea4afe",
   "metadata": {},
   "source": [
    "---\n",
    "\n",
    "# Categorical Modeling\n",
    "\n",
    "Categorical Modeling is a way of measuring a non-numeric outcome. For today, we will be predicting a binary outcome, like 'yes' or 'no', 'Champion' or 'Not Champion', etc. There are various models that can be used to achieve this but today we will go over Logistic, LDA and QDA models. Each of these models use different methodologies to achieve the same goal. Therefore, each models predictions may differ from each other, warranting comparison. This can be done using certain metrics that we will go over later in this lesson."
   ]
  },
  {
   "cell_type": "markdown",
   "id": "c9e318cb",
   "metadata": {},
   "source": [
    "---\n",
    "\n",
    "# Modeling Process\n",
    "\n"
   ]
  },
  {
   "cell_type": "code",
   "execution_count": 3,
   "id": "ff992282",
   "metadata": {},
   "outputs": [],
   "source": [
    "WNBA_2024_Data = pd.read_csv('https://raw.githubusercontent.com/schuckers/Charlotte_SCORE_Summer25/refs/heads/main/Data%20for%20Modules/Data%20For%20Intro%20to%20Categorical%20Model-Making%20Module%20by%20Austin%20Hayes/2024_WNBA_Per_Game.csv')"
   ]
  },
  {
   "cell_type": "code",
   "execution_count": 6,
   "id": "bddd3f54",
   "metadata": {},
   "outputs": [
    {
     "data": {
      "text/plain": [
       "Index(['Rk', 'Team', 'G', 'MP', 'FG', 'FGA', 'FG%', '3P', '3PA', '3P%', '2P',\n",
       "       '2PA', '2P%', 'FT', 'FTA', 'FT%', 'ORB', 'DRB', 'TRB', 'AST', 'STL',\n",
       "       'BLK', 'TOV', 'PF', 'PTS'],\n",
       "      dtype='object')"
      ]
     },
     "execution_count": 6,
     "metadata": {},
     "output_type": "execute_result"
    }
   ],
   "source": [
    "WNBA_2024_Data.columns"
   ]
  },
  {
   "cell_type": "code",
   "execution_count": 4,
   "id": "96d7032e",
   "metadata": {},
   "outputs": [
    {
     "data": {
      "text/plain": [
       "(13, 25)"
      ]
     },
     "execution_count": 4,
     "metadata": {},
     "output_type": "execute_result"
    }
   ],
   "source": [
    "WNBA_2024_Data.shape"
   ]
  },
  {
   "cell_type": "markdown",
   "id": "a0d4a38a",
   "metadata": {},
   "source": [
    "https://www.basketball-reference.com/wnba/years/2024.html"
   ]
  }
 ],
 "metadata": {
  "kernelspec": {
   "display_name": "Python 3",
   "language": "python",
   "name": "python3"
  },
  "language_info": {
   "codemirror_mode": {
    "name": "ipython",
    "version": 3
   },
   "file_extension": ".py",
   "mimetype": "text/x-python",
   "name": "python",
   "nbconvert_exporter": "python",
   "pygments_lexer": "ipython3",
   "version": "3.12.10"
  }
 },
 "nbformat": 4,
 "nbformat_minor": 5
}
