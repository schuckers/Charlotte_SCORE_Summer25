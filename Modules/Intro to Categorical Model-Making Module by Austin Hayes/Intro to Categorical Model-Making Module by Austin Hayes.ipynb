{
 "cells": [
  {
   "cell_type": "markdown",
   "id": "d0bbe180",
   "metadata": {},
   "source": [
    "---\n",
    "Title: \"Intro to Categorical Model-Making Module by Austin Hayes\"\n",
    "\n",
    "Author:\n",
    "  - Name: Austin Hayes\n",
    "\n",
    "  -  Email: ahayes65@charlotte.edu\n",
    "\n",
    "  -  Affiliation: University of North Carolina at Charlotte\n",
    "\n",
    "Date: July 29, 2025\n",
    "\n",
    "Description: Using 2024 WNBA Team 'Per Game' stats, we will review the basics of categorical model-making. We will make QDA, LDA and Logistic models in order to predict which team will become the next WNBA Champion.\n",
    "\n",
    "Categories:\n",
    "  - Logistic Regression\n",
    "  - Quadratic Discriminant Analysis\n",
    "  - Linear Discriminant Analysis\n",
    "  - Importing and Reading data\n",
    "  - Data Cleaning\n",
    "  - Data Science\n",
    "  - Pandas\n",
    "\n",
    "\n",
    "### Data\n",
    "\n",
    "This Dataset is from Basketball Reference @ https://www.basketball-reference.com\n",
    "\n",
    "Visit the original data page here: https://www.basketball-reference.com/wnba/years/2024.html\n",
    "\n",
    "The data set contains  rows and  columns. Each row represents a WNBA team during the 2024 season. Meaning, the new expansion teams will not be included in this data.\n",
    "\n",
    "Download data: \n",
    "\n",
    "Available on the [Intro to Categorical Model-Making Module by Austin Hayes](https://github.com/schuckers/Charlotte_SCORE_Summer25/tree/main/Data%20for%20Modules/Data%20For%20Intro%20to%20Categorical%20Model-Making%20Module%20by%20Austin%20Hayes): [2024_WNBA_Per_Game.csv](https://raw.githubusercontent.com/schuckers/Charlotte_SCORE_Summer25/refs/heads/main/Data%20for%20Modules/Data%20For%20Intro%20to%20Categorical%20Model-Making%20Module%20by%20Austin%20Hayes/2024_WNBA_Per_Game.csv)\n",
    "\n",
    "---\n",
    "\n",
    "### Variables and their Descriptions:\n",
    "\n",
    "\n",
    "<details>\n",
    "<summary><b>Variable Descriptions</b></summary>\n",
    "\n",
    "| Variable | Description | \n",
    "|----|-------------|\n",
    "| position | Playing position of the player |\n",
    "| Round | Round player was drafted in |\n",
    "| forty | 40-yard dash time |\n",
    "| vertical | Vertical jump height (inches) |\n",
    "| bench_reps | 225 bench press reps |\n",
    "| broad_jump | Broad jump distances (inches) |\n",
    "| shuttle | 20-yard shuttle time |\n",
    "\n",
    "</details>"
   ]
  },
  {
   "cell_type": "code",
   "execution_count": null,
   "id": "19d91ddb",
   "metadata": {},
   "outputs": [],
   "source": [
    "import pandas as pd"
   ]
  },
  {
   "cell_type": "markdown",
   "id": "a0d4a38a",
   "metadata": {},
   "source": [
    "https://www.basketball-reference.com/wnba/years/2024.html"
   ]
  }
 ],
 "metadata": {
  "kernelspec": {
   "display_name": "Python 3",
   "language": "python",
   "name": "python3"
  },
  "language_info": {
   "name": "python",
   "version": "3.12.10"
  }
 },
 "nbformat": 4,
 "nbformat_minor": 5
}
