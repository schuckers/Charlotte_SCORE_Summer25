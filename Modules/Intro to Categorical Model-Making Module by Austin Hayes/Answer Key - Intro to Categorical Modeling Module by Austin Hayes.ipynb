{
 "cells": [
  {
   "cell_type": "markdown",
   "id": "92858c79",
   "metadata": {},
   "source": [
    "---\n",
    "Title: \"Intro to Categorical Model-Making Module by Austin Hayes\"\n",
    "\n",
    "Author:\n",
    "  - Name: Austin Hayes\n",
    "\n",
    "  -  Email: ahayes65@charlotte.edu\n",
    "\n",
    "  -  Affiliation: University of North Carolina at Charlotte\n",
    "\n",
    "Date: July 29, 2025\n",
    "\n",
    "Description: Using WNBA Team 'Per Game' stats, we will review the basics of categorical model-making. We will make QDA, LDA and Logistic models in order to predict which team will become the next WNBA Champion.\n",
    "\n",
    "Categories:\n",
    "  - Logistic Regression\n",
    "  - Quadratic Discriminant Analysis\n",
    "  - Linear Discriminant Analysis\n",
    "  - Importing and Reading data\n",
    "  - Data Cleaning\n",
    "  - Data Science\n",
    "  - Pandas\n",
    "\n",
    "\n",
    "### Data\n",
    "\n",
    "This Dataset is from Basketball Reference @ https://www.basketball-reference.com\n",
    "\n",
    "Visit the original data page here: https://www.basketball-reference.com/wnba/years/2024.html\n",
    "\n",
    "The data set contains 60 rows and 26 columns. Each row represents a WNBA team during the 2024 season.\n",
    "\n",
    "Download data: \n",
    "\n",
    "Available on the [Intro to Categorical Model-Making Module by Austin Hayes](https://github.com/schuckers/Charlotte_SCORE_Summer25/tree/main/Data%20for%20Modules/Data%20For%20Intro%20to%20Categorical%20Model-Making%20Module%20by%20Austin%20Hayes): [2024_WNBA_Per_Game.csv](https://raw.githubusercontent.com/schuckers/Charlotte_SCORE_Summer25/refs/heads/main/Data%20for%20Modules/Data%20For%20Intro%20to%20Categorical%20Model-Making%20Module%20by%20Austin%20Hayes/2024_WNBA_Per_Game.csv)\n",
    "\n",
    "---\n",
    "\n",
    "### Variables and their Descriptions:\n",
    "\n",
    "\n",
    "<details>\n",
    "<summary><b>Variable Descriptions</b></summary>\n",
    "\n",
    "| Variable | Description |\n",
    "|----------|-------------|\n",
    "| Rk       | Rank of the team in the league |\n",
    "| Team     | Name of the team |\n",
    "| G        | Games played |\n",
    "| MP       | Minutes played per game |\n",
    "| FG       | Field Goals made per game |\n",
    "| FGA      | Field Goal attempts per game |\n",
    "| FG%      | Field Goal percentage (FG ÷ FGA) |\n",
    "| 3P       | Three-Point Field Goals made per game |\n",
    "| 3PA      | Three-Point Field Goal attempts per game |\n",
    "| 3P%      | Three-Point Field Goal percentage (3P ÷ 3PA) |\n",
    "| 2P       | Two-Point Field Goals made per game |\n",
    "| 2PA      | Two-Point Field Goal attempts per game |\n",
    "| 2P%      | Two-Point Field Goal percentage (2P ÷ 2PA) |\n",
    "| FT       | Free Throws made per game |\n",
    "| FTA      | Free Throw attempts per game |\n",
    "| FT%      | Free Throw percentage (FT ÷ FTA) |\n",
    "| ORB      | Offensive Rebounds per game |\n",
    "| DRB      | Defensive Rebounds per game |\n",
    "| TRB      | Total Rebounds per game |\n",
    "| AST      | Assists per game |\n",
    "| STL      | Steals per game |\n",
    "| BLK      | Blocks per game |\n",
    "| TOV      | Turnovers per game |\n",
    "| PF       | Personal Fouls per game |\n",
    "| PTS      | Points scored per game |\n",
    "| CHAMPION | Did that team win the championship that year? 1 = Yes, 0 = No |\n",
    "\n",
    "</details>"
   ]
  },
  {
   "cell_type": "markdown",
   "id": "5f3b7218",
   "metadata": {},
   "source": [
    "---\n",
    "\n",
    "# Review Questions\n",
    "\n",
    "Below, you will be asked a series of questions to review the material you have learned throughout this module."
   ]
  },
  {
   "cell_type": "code",
   "execution_count": null,
   "id": "229a04aa",
   "metadata": {},
   "outputs": [],
   "source": [
    "# Import the necessary librarys for the module\n",
    "# Basic Data Science Library for importing data and data manipulation\n",
    "import pandas as pd\n",
    "\n",
    "# Library for mathematical operations\n",
    "import numpy as np\n",
    "\n",
    "# Import only the necessary functions from the sklearn library\n",
    "from sklearn.model_selection import train_test_split\n",
    "from sklearn.preprocessing import StandardScaler\n",
    "from sklearn.linear_model import LogisticRegression\n",
    "from sklearn.metrics import confusion_matrix, accuracy_score, precision_score, recall_score, f1_score\n",
    "from sklearn.discriminant_analysis import LinearDiscriminantAnalysis, QuadraticDiscriminantAnalysis\n",
    "from sklearn.neighbors import KNeighborsClassifier\n",
    "from sklearn.preprocessing import StandardScaler"
   ]
  },
  {
   "cell_type": "markdown",
   "id": "a1b0450f",
   "metadata": {},
   "source": [
    "### 1.) How does KNN work and what needs to be done to the data before use of a KNN model?"
   ]
  },
  {
   "cell_type": "markdown",
   "id": "0f53ea70",
   "metadata": {},
   "source": [
    "### 2.) Using the 2020-2024 dataset, create a list of predictor variables that include FG%, 3P%, 2P%, FT%, ORB, AST. Scale the list of predictor variables. Create a new column in the 2020-2024 dataset that assesses whether a teams points ('PTS') are over 85 per game. 1 = True, 0 = False.\n",
    "\n",
    "Hint: _Use .astype(int)_ "
   ]
  },
  {
   "cell_type": "markdown",
   "id": "7238970c",
   "metadata": {},
   "source": [
    "### 3.) Using the scaled data you created in question 2, predict whether a team(s) will have above 85 points per game during the 2025 WNBA season with a QDA model. Record an accuracy score. "
   ]
  },
  {
   "cell_type": "markdown",
   "id": "34b64f10",
   "metadata": {},
   "source": [
    "### 4.) Do the same thing you did in question 3 but with 3 KNN models instead. Use K=5, k=25 and k=53 respectively. Record an accuracy score for each."
   ]
  },
  {
   "cell_type": "markdown",
   "id": "f7bcde3a",
   "metadata": {},
   "source": [
    "### 5.) As you did in questions 3 and 4, make a prediction but use a Logistic model instead. Record an accuracy score."
   ]
  },
  {
   "cell_type": "markdown",
   "id": "1b1084f4",
   "metadata": {},
   "source": [
    "### 6.) Which model(s) had the highest accuracy score? Is there a tie between the most accurate models? Or is there a model that is clearly the best in terms of an accuracy score?"
   ]
  },
  {
   "cell_type": "markdown",
   "id": "7658a67a",
   "metadata": {},
   "source": [
    "### 7.) What differentiates LDA and QDA? List a few differences."
   ]
  }
 ],
 "metadata": {
  "kernelspec": {
   "display_name": "Python 3",
   "language": "python",
   "name": "python3"
  },
  "language_info": {
   "name": "python",
   "version": "3.12.10"
  }
 },
 "nbformat": 4,
 "nbformat_minor": 5
}
