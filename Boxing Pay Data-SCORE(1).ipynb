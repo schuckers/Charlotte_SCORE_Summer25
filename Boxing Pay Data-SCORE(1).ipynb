{
 "cells": [
  {
   "cell_type": "markdown",
   "id": "bbc7c243",
   "metadata": {},
   "source": [
    "_________________________________________________________\n",
    "## Title : Boxing Fighter Pay - Multiple Regression\n",
    "\n",
    "- Author: Izaan Khudadad\n",
    "- Email : ikhudada@charlotte.edu\n",
    "- Affiliation: University of North Carolina at Charlotte\n",
    "\n",
    "Categories:\n",
    "\n",
    "- Correlation\n",
    "- Multiple Regression\n",
    "- Summary Statistics \n",
    "- Linear Regression \n",
    "_________________________________________________________"
   ]
  },
  {
   "cell_type": "markdown",
   "id": "fdeb0483",
   "metadata": {},
   "source": [
    "### Introduction\n",
    "\n",
    "In the following activity, you will use data compiled by Peter Anderson from the Nevada State Athletic Commission(NSAC) and the California State Athletic Commission(CSAC). The dataset covers professional boxing fights held between 2009 and 2017, which includes individual fighters, their opponents, fight characteristics, broadcasting networks, and fighter earnings. \n",
    "\n",
    "Each observation represents a single fighter in a given bout, forming a panel structure that enables tracking of fighters over time.\n",
    "\n",
    "Using this data, you will work on how various variables are correlated to fighter purse amount, as well as learn about how to determine the quality of a regression model.\n",
    "\n",
    "By the end of the activity you should be able to: \n",
    "1. Use Python to create models based on more than two predictors. \n",
    "2. Understand what Root Mean Squared Error(RMSE) is in the context of multiple regression. \n",
    "3. Look at Residual plots to determine the quality of linear regression models. \n",
    "4. Use a variety of Python Libraries such as MatplotLib, Numpy, and Seaborn in creating models. \n"
   ]
  },
  {
   "cell_type": "markdown",
   "id": "d75bd2ef",
   "metadata": {},
   "source": [
    "### Data\n",
    "\n",
    "The dataset includes over 4,600 fight entries and more than 1,200 unique professional boxers. Each row represents one fighter in one fight.\n",
    "\n",
    "[Boxing Fighter Pay xlsx](https://github.com/izaan-khudadad/Boxing_Fighter_Pay/blob/main/Boxing_Pay_data.xlsx)\n",
    "\n",
    "[Boxing Fighter Pay CSV](https://github.com/izaan-khudadad/Boxing_Fighter_Pay/blob/main/Boxing_Pay_data%20(1).csv)\n",
    "\n",
    "<details>\n",
    "<summary><b>Variable Descriptions</b></summary>\n",
    "\n",
    "| Variable | Description |\n",
    "|--------------------|-----------------------------------------------------------------------------|\n",
    "| Boxer              | Name of the boxer (Last, First)                                             |\n",
    "| Date               | Date of the fight (YYYY.MM.DD)                                              |\n",
    "| Venue              | Location where the fight took place                                         |\n",
    "| Purse              | Reported purse (fighter's earnings) in USD                                 |\n",
    "| lnRPurse           | Natural logarithm of the purse (for regression use)                         |\n",
    "| weight             | Weight of the boxer (in pounds)                                             |\n",
    "| Age                | Age of the boxer at the time of the fight                                   |\n",
    "| Wins               | Number of professional wins prior to the fight                              |\n",
    "| Losses             | Number of professional losses prior to the fight                            |\n",
    "| KO                 | Number of professional knockout wins prior to the fight                     |\n",
    "| W-Title            | Indicator for world title bout (1 = yes, 0 = no)                            |\n",
    "| PPV                | Fight was on Pay-Per-View (1 = yes, 0 = no)                                 |\n",
    "| ESPN               | Fight broadcast on ESPN (1 = yes, 0 = no)                                   |\n",
    "| HBO                | Fight broadcast on HBO (1 = yes, 0 = no)                                    |\n",
    "| FOX                | Fight broadcast on FOX (1 = yes, 0 = no)                                    |\n",
    "| TopRank            | Top Rank as the promoter (1 = yes, 0 = no)                                  |\n",
    "| GoldenBoy          | Golden Boy Promotions as the promoter (1 = yes, 0 = no)                     |\n",
    "| RDS                | Scheduled number of rounds                                                  |\n",
    "| Y2009–Y2017        | Year indicator columns for 2009 through 2017 (1 = yes, 0 = no per year)     |\n"
   ]
  },
  {
   "cell_type": "markdown",
   "id": "8b5d8d02",
   "metadata": {},
   "source": [
    "**Data Source**\n",
    "\n",
    "[Mendeley Data](https://data.mendeley.com/datasets/vpbsd5bryy/1)"
   ]
  },
  {
   "cell_type": "markdown",
   "id": "ac116d57",
   "metadata": {},
   "source": [
    "### Material\n",
    "[Multiple Linear Regression, Boxing Purse Data](https://github.com/izaan-khudadad/Boxing_Fighter_Pay/blob/main/MultipleRegressionBoxing.ipynb)\n",
    "\n"
   ]
  },
  {
   "cell_type": "markdown",
   "id": "39ceb1dd",
   "metadata": {},
   "source": [
    "### Conclusion\n",
    "In the provided material, students explored how to use multiple linear regression to model Boxing data. By building, evaluating, and interpreting regression models, students practiced core data science skills such as:\n",
    "- Selecting and preparing predictor variables\n",
    "- Understanding how each predictor influences the response\n",
    "- Evaluating model performance using RMSE\n",
    "- Diagnosing fit using residual plots\n",
    "- Reading and interpreting a full regression summary\n"
   ]
  }
 ],
 "metadata": {
  "language_info": {
   "name": "python"
  }
 },
 "nbformat": 4,
 "nbformat_minor": 5
}
