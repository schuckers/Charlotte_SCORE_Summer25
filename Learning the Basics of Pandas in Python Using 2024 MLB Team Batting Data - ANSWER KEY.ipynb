{
 "cells": [
  {
   "cell_type": "markdown",
   "id": "864e4911",
   "metadata": {},
   "source": [
    "---\n",
    "Title: \"Learning the Basics of Pandas in Python Using 2024 MLB Team Batting Data - ANSWER KEY\"\n",
    "\n",
    "Author:\n",
    "  - Name: Austin Hayes\n",
    "\n",
    "  -  Email: ahayes65@charlotte.edu\n",
    "\n",
    "  -  Affiliation: University of North Carolina at Charlotte\n",
    "\n",
    "Date: June 2, 2025\n",
    "\n",
    "Description: Using 2024 Batting Data from every team, we will be exploring the basic functions and uses of the Pandas library in Python in order to learn about Data Science in Python.\n",
    "\n",
    "Categories:\n",
    "  - Dataframes\n",
    "  - Summary statistics\n",
    "  - Importing and Reading data\n",
    "  - Series\n",
    "  - Data Science\n",
    "\n",
    "\n",
    "### Data\n",
    "\n",
    "This Dataset is Originally from Baseball Reference and has been converted to CSV and Excel files for this learning module. \n",
    "\n",
    "Visit their website at: https://www.baseball-reference.com/leagues/majors/2024.shtml\n",
    "\n",
    "The data set contains 32 rows and 29 columns. Each row represents a MLB team.\n",
    "\n",
    "Download data: \n",
    "\n",
    "Available on the [Data For Pandas Module Data Repository](https://github.com/ahaze65/Data-For-Pandas-Module): [2024_MLB_Team_Batting_Data.csv](https://raw.githubusercontent.com/ahaze65/Data-For-Pandas-Module/refs/heads/main/2024_MLB_Team_Batting_Data.csv)\n",
    "\n",
    "<details>\n",
    "<summary><b>Variable Descriptions</b></summary>\n",
    "\n",
    "| Variable | Description |\n",
    "|----|----------------------------|\n",
    "| Tm | Team |\n",
    "| '#Bat' | Number of Players used in Games | \n",
    "| BatAge | Batters’ average age. Weighted by AB + Games Played |\n",
    "| R/G | Runs Scored Per Game |\n",
    "| G | Games Played or Pitched |\n",
    "| PA | Plate Appearances. When available, we use actual plate appearances from play-by-play game accounts. Otherwise estimated using AB + BB + HBP + SF + SH, which excludes catcher interferences. When this color, click for a summary of each PA. |\n",
    "| AB | At Bats |\n",
    "| R | Runs Scored/Allowed |\n",
    "| H | Hits/Hits Allowed |\n",
    "| 2B | Second Base Hits? Not stated on Website. | \n",
    "| 3B | Third Base Hits? Not stated on Website. |\n",
    "| HR | Home Runs Hit/Allowed |\n",
    "| RBI | Runs Batted In |\n",
    "| SB | Stolen Bases |\n",
    "| CS | Caught Stealing |\n",
    "| BB | Bases on Balls/Walks |\n",
    "| SO | Strikeouts |\n",
    "| BA | Hits/At Bats. For recent years, leaders need 3.1 PA per team game played. Bold indicates highest BA using current stats. Gold means awarded title at end of year.|\n",
    "| OBP | (H + BB + HBP) / (At Bats + BB + HBP + SF). For recent years, leaders need 3.1 PA per team game played. |\n",
    "|SLG | Total Bases/At Bats OR (1B + 2*2B + 3*3B + 4*HR) / AB. For recent years, leaders need 3.1 PA per team game played. |\n",
    "|OPS | On-Base + Slugging Percentages. For recent years, leaders need 3.1 PA per team game played. |\n",
    "|OPS+ | 100*[OBP/lg OBP + SLG/lg SLG - 1]. Adjusted to the player’s ballpark(s) |\n",
    "| TB | Total Bases. Singles + 2 x Doubles + 3 x Triples + 4 x Home Runs. |\n",
    "| GDP | Double Plays Grounded Into. Only includes standard 6-4-3, 4-3, etc. double plays. First tracked in 1933. For gamelogs only in seasons we have play-by-play, we include triple plays as well. All official seasonal totals do not include GITP's. |\n",
    "| HBP | Times Hit by a Pitch |\n",
    "| SH | Sacrifice Hits (Sacrifice Bunts) |\n",
    "|SF | Sacrifice Flies. First tracked in 1954. |\n",
    "| IBB | Intentional Bases on Balls. First tracked in 1955. |\n",
    "|LOB | Runners Left On Base |"
   ]
  },
  {
   "cell_type": "markdown",
   "id": "ff93191f",
   "metadata": {},
   "source": [
    "# Answer Key:"
   ]
  },
  {
   "cell_type": "markdown",
   "id": "1e2c1e28",
   "metadata": {},
   "source": [
    "## For Questions 1 - 3 use the following dataset: https://raw.githubusercontent.com/ahaze65/Data-For-Pandas-Module/refs/heads/main/Pitching%20Data%20-%20MLB%202024%20Team%20Stats.csv\n",
    "\n",
    "\n",
    "SOURCE:\n",
    "\n",
    "This dataset is from Baseball Reference. Please go visit their website at https://www.baseball-reference.com \n",
    "\n",
    "Or for this exact dataset: https://www.baseball-reference.com/leagues/majors/2024.shtml#all_teams_standard_pitching "
   ]
  },
  {
   "cell_type": "markdown",
   "id": "78f76c7f",
   "metadata": {},
   "source": [
    "### 1. Import the dataset from above, drop the last 2 rows and find the mean amount of earned runs allowed last year. \n",
    "\n",
    "Hint: Earned Runs Allowed column name is 'ER'"
   ]
  },
  {
   "cell_type": "code",
   "execution_count": null,
   "id": "359229be",
   "metadata": {},
   "outputs": [],
   "source": [
    "import pandas as pd\n",
    "\n",
    "import numpy as np"
   ]
  },
  {
   "cell_type": "code",
   "execution_count": null,
   "id": "25cce994",
   "metadata": {},
   "outputs": [],
   "source": [
    "# Import data\n",
    "pitching_data = pd.read_csv('https://raw.githubusercontent.com/ahaze65/Data-For-Pandas-Module/refs/heads/main/Pitching%20Data%20-%20MLB%202024%20Team%20Stats.csv')\n",
    "\n",
    "# Drop the last 2 rows\n",
    "pitching_data = pitching_data.drop([30,31])\n",
    "\n",
    "# Calculate the average ER among teams\n",
    "average_er = pitching_data['ER'].mean()\n",
    "\n",
    "print(f\"The average number of earned runs allowed (ER) among teams is: {average_er:.2f}\")"
   ]
  },
  {
   "cell_type": "markdown",
   "id": "5a5b12ab",
   "metadata": {},
   "source": [
    "### 2. Assign String indexes to every row that matches the team of that row. Test this by using a certain function that allows you to view rows by labeling to view a team of your choice\n",
    "\n",
    "Hint: Reuse the team name column 'Tm'\n",
    "\n",
    "Hint: This function is in the data selection section."
   ]
  },
  {
   "cell_type": "code",
   "execution_count": null,
   "id": "f42d3967",
   "metadata": {},
   "outputs": [],
   "source": [
    "# Make indexing labels\n",
    "pitching_data.index = pitching_data['Tm']\n",
    "\n",
    "# Select a team by its name\n",
    "pitching_data.loc['Washington Nationals']"
   ]
  },
  {
   "cell_type": "markdown",
   "id": "6503b7ee",
   "metadata": {},
   "source": [
    "### 3. Print out a list of teams who had at least 1 complete pitching shutout last season. \n",
    "\n",
    "Hint: complete shutout column is called 'cSho'"
   ]
  },
  {
   "cell_type": "code",
   "execution_count": null,
   "id": "355207d3",
   "metadata": {},
   "outputs": [],
   "source": [
    "# Select teams with at least 1 complete game shutout (cSho)\n",
    "pitching_data.loc[pitching_data['cSho'] >= 1]"
   ]
  },
  {
   "cell_type": "markdown",
   "id": "c0d71af1",
   "metadata": {},
   "source": [
    "### 4. Create your own dataframe with at least 10 rows and 3 columns. Include at least 3 rows with null data points (Use np.nan) and make at least 1 column of numbers."
   ]
  },
  {
   "cell_type": "code",
   "execution_count": null,
   "id": "a6c52f10",
   "metadata": {},
   "outputs": [],
   "source": [
    "# Create a Dataframe\n",
    "pitchers = pd.DataFrame(\n",
    "    {\n",
    "    'Player': ['Max Scherzer', 'Jacob deGrom', 'Clayton Kershaw', 'Gerrit Cole', 'Paul Skenes', 'Dallas Keuchel', 'Tarik Skubal', 'Jack Flaherty', 'Chris Sale', 'Yoshinobu Yamamoto', 'Justin Verlander'],\n",
    "    'Team': ['Toronto Bluejays', 'Texas Rangers', 'Los Angeles Dodgers', 'New York Yankees', 'Pittsburgh Pirates', 'Milwakee Brewers','Detroit Tigers', 'Detroit Tigers', 'Atlanta Braves', 'Los Angeles Dodgers', 'Houston Astros'],\n",
    "    'ERA': [2.85, np.nan, 3.01, 2.67, 3.50, 4.20, 3.80, 4.10, 3.90, np.nan, 2.75],\n",
    "    'W': [15, 14, 16, 18, 12, 10, 9, 8, np.nan, 13, 17],\n",
    "    'L': [4, 5, 6, 3, 7, np.nan, 9, 10, 5, 4, 3],\n",
    "    }\n",
    ")\n",
    "\n",
    "#Print it out\n",
    "print(pitchers)"
   ]
  },
  {
   "cell_type": "markdown",
   "id": "c1740bb4",
   "metadata": {},
   "source": [
    "### 5. Using the dataframe you created in the last question, fill those null values with a phrase of your choosing and print out the dataframe. Make sure you are NOT applying those changes to the original dataframe.\n",
    "\n",
    "Hint: do not use the inplace argument in you function call"
   ]
  },
  {
   "cell_type": "code",
   "execution_count": null,
   "id": "3c1d5bbc",
   "metadata": {},
   "outputs": [],
   "source": [
    "# Fill null values with 'N/A'\n",
    "pitchers.fillna('N/A')\n",
    "\n",
    "# Print out the updated DataFrame\n",
    "print(pitchers)"
   ]
  },
  {
   "cell_type": "markdown",
   "id": "8674da83",
   "metadata": {},
   "source": [
    "### 6. Still using that dataframe you created, drop any rows that conatain null values. This time, make sure you apply those changes to your dataframe and NOT to a temporary copy. \n"
   ]
  },
  {
   "cell_type": "code",
   "execution_count": null,
   "id": "dfe95d03",
   "metadata": {},
   "outputs": [],
   "source": [
    "# Drop rows with null values and apply changes\n",
    "pitchers.dropna(inplace=True)\n",
    "\n",
    "# Print out the result\n",
    "print(pitchers)"
   ]
  },
  {
   "cell_type": "markdown",
   "id": "6cee5f56",
   "metadata": {},
   "source": [
    "### 7. Using one function, calculate all key statisitics for your dataframe such as mean, median, min, etc."
   ]
  },
  {
   "cell_type": "code",
   "execution_count": null,
   "id": "1084fdea",
   "metadata": {},
   "outputs": [],
   "source": [
    "# Get key statistics of the DataFrame\n",
    "pitchers.describe()"
   ]
  },
  {
   "cell_type": "markdown",
   "id": "a9420c77",
   "metadata": {},
   "source": [
    "### 8. View the last 5 rows of your dataframe and drop 3 of them of your choosing with only one line of code. View the last 5 rows again to check your changes."
   ]
  },
  {
   "cell_type": "code",
   "execution_count": null,
   "id": "e1162973",
   "metadata": {},
   "outputs": [],
   "source": [
    "# View last 5 rows of the DataFrame\n",
    "print(pitchers.tail())"
   ]
  },
  {
   "cell_type": "code",
   "execution_count": null,
   "id": "2ab49b17",
   "metadata": {},
   "outputs": [],
   "source": [
    "# Drop specific rows by index\n",
    "pitchers.drop([10, 3, 4], inplace=True)"
   ]
  },
  {
   "cell_type": "code",
   "execution_count": null,
   "id": "36acfe9d",
   "metadata": {},
   "outputs": [],
   "source": [
    "# Print out the DataFrame after dropping rows\n",
    "print(pitchers.tail())"
   ]
  },
  {
   "cell_type": "markdown",
   "id": "3a6437d3",
   "metadata": {},
   "source": [
    "### 9. Choose one of your numeric columns, convert it to an integer data type (if it is not already) and then into a Numpy array. Print the final array out."
   ]
  },
  {
   "cell_type": "code",
   "execution_count": null,
   "id": "6c5a7b7a",
   "metadata": {},
   "outputs": [],
   "source": [
    "# CHeck intial data types\n",
    "pitchers.info()"
   ]
  },
  {
   "cell_type": "code",
   "execution_count": null,
   "id": "c9ece69f",
   "metadata": {},
   "outputs": [],
   "source": [
    "# Convert the Win column to type int\n",
    "pitchers['W'] = pitchers['W'].astype(int)\n",
    "\n",
    "# Check to see if it changed\n",
    "print(pitchers.info())\n"
   ]
  },
  {
   "cell_type": "code",
   "execution_count": null,
   "id": "90782f43",
   "metadata": {},
   "outputs": [],
   "source": [
    "# Convert it to numpy array and print it out\n",
    "pitchers_array = pitchers['W'].to_numpy()\n",
    "print(pitchers_array)   "
   ]
  }
 ],
 "metadata": {
  "kernelspec": {
   "display_name": "Python 3",
   "language": "python",
   "name": "python3"
  },
  "language_info": {
   "codemirror_mode": {
    "name": "ipython",
    "version": 3
   },
   "file_extension": ".py",
   "mimetype": "text/x-python",
   "name": "python",
   "nbconvert_exporter": "python",
   "pygments_lexer": "ipython3",
   "version": "3.12.10"
  }
 },
 "nbformat": 4,
 "nbformat_minor": 5
}
